{
 "cells": [
  {
   "cell_type": "code",
   "execution_count": 189,
   "metadata": {},
   "outputs": [],
   "source": [
    "# create subset uniformly\n",
    "langtags = {'ha':'<ha>', 'yo':'<yo>'}\n",
    "#{'am':'<am>', 'dz':'<dz>', 'ha':'<ha>', 'ig':'<ig>', 'kr':'<kr>', 'ma':'<ma>', 'pcm':'<pcm>', 'pt':'<pt>', 'sw':'<sw>', 'ts':'<ts>', 'twi':'<twi>', 'yo':'<yo>'}\n",
    "#tags = [item for item in langtags.items()]"
   ]
  },
  {
   "cell_type": "code",
   "execution_count": 220,
   "metadata": {},
   "outputs": [],
   "source": [
    "import pandas as pd\n",
    "import os\n",
    "\n",
    "class languages:\n",
    "    def __init__(self, code, datapath):\n",
    "        path = os.path.join(datapath, code+'_train.tsv')\n",
    "        self.df = pd.read_csv(path, sep='\\t')\n",
    "        self.df = self.df.dropna()\n",
    "        self.df['tag'] = code\n",
    "        self.df['label'].value_counts()\n",
    "        self.code = code\n",
    "    \n",
    "    def getmax(self):\n",
    "        return df['label'].value_counts().max()\n",
    "    \n",
    "    def getmin(self):\n",
    "        return df['label'].value_counts().min()\n",
    "    \n",
    "    def getsum(self):\n",
    "        return df['label'].value_counts().sum()\n",
    "    \n",
    "    def sampleuniallclass(self, k):\n",
    "        # uniformly sample across class and language\n",
    "        return k.sample(self.nSamples, replace=True)\n",
    "    \n",
    "    def sampleuniall(self, nSamples=1):\n",
    "        self.nSamples = nSamples\n",
    "        sam = self.df.groupby('label').apply(self.sampleuniallclass)\n",
    "        return sam\n",
    "    \n",
    "    def mergesampleall(self):\n",
    "        return self.df\n",
    "    "
   ]
  },
  {
   "cell_type": "code",
   "execution_count": 221,
   "metadata": {},
   "outputs": [],
   "source": [
    "alllangsObjs = [languages(item,'./SubtaskA') for item in langtags]"
   ]
  },
  {
   "cell_type": "code",
   "execution_count": 222,
   "metadata": {},
   "outputs": [],
   "source": [
    "uniformall = True\n",
    "#mergeall = True\n",
    "#uniformclass = False\n",
    "if uniformall:\n",
    "    # sample the data based on the class with the highest number of instances across languages\n",
    "    minlabelsize = max([item.getmax() for item in alllangsObjs])\n",
    "    classsample = [item.sampleuniall(nSamples = minlabelsize)  for item in alllangsObjs]\n",
    "    sampleddata = pd.concat(classsample)\n",
    "elif mergeall:\n",
    "    # concatenate all the data without any extra sampling\n",
    "    classsample = [item.mergesampleall() for item in alllangsObjs]\n",
    "    sampleddata = pd.concat(classsample)"
   ]
  },
  {
   "cell_type": "code",
   "execution_count": 205,
   "metadata": {},
   "outputs": [
    {
     "data": {
      "text/plain": [
       "ha    14172\n",
       "yo     8522\n",
       "Name: tag, dtype: int64"
      ]
     },
     "execution_count": 205,
     "metadata": {},
     "output_type": "execute_result"
    }
   ],
   "source": [
    "sampleddata['tag'].value_counts()"
   ]
  },
  {
   "cell_type": "code",
   "execution_count": 123,
   "metadata": {},
   "outputs": [],
   "source": [
    "df = pd.read_csv('yo.tsv', sep='\\t')\n",
    "df = df.dropna()\n",
    "p = df['label'].value_counts().argmax()"
   ]
  },
  {
   "cell_type": "code",
   "execution_count": 48,
   "metadata": {},
   "outputs": [],
   "source": [
    "def sampleClass(df, nSamples=2):\n",
    "        return df.sample(nSamples)\n",
    "samples = df.groupby('label').apply(sampleClass)"
   ]
  },
  {
   "cell_type": "code",
   "execution_count": 49,
   "metadata": {},
   "outputs": [
    {
     "data": {
      "text/html": [
       "<div>\n",
       "<style scoped>\n",
       "    .dataframe tbody tr th:only-of-type {\n",
       "        vertical-align: middle;\n",
       "    }\n",
       "\n",
       "    .dataframe tbody tr th {\n",
       "        vertical-align: top;\n",
       "    }\n",
       "\n",
       "    .dataframe thead th {\n",
       "        text-align: right;\n",
       "    }\n",
       "</style>\n",
       "<table border=\"1\" class=\"dataframe\">\n",
       "  <thead>\n",
       "    <tr style=\"text-align: right;\">\n",
       "      <th></th>\n",
       "      <th></th>\n",
       "      <th>Unnamed: 0</th>\n",
       "      <th>ID</th>\n",
       "      <th>tweet</th>\n",
       "      <th>label</th>\n",
       "      <th>tag</th>\n",
       "    </tr>\n",
       "    <tr>\n",
       "      <th>label</th>\n",
       "      <th></th>\n",
       "      <th></th>\n",
       "      <th></th>\n",
       "      <th></th>\n",
       "      <th></th>\n",
       "      <th></th>\n",
       "    </tr>\n",
       "  </thead>\n",
       "  <tbody>\n",
       "    <tr>\n",
       "      <th rowspan=\"2\" valign=\"top\">negative</th>\n",
       "      <th>1703</th>\n",
       "      <td>1703</td>\n",
       "      <td>yo_train_01704</td>\n",
       "      <td>Dearth of regard that emboldens a peasant to c...</td>\n",
       "      <td>negative</td>\n",
       "      <td>yo</td>\n",
       "    </tr>\n",
       "    <tr>\n",
       "      <th>513</th>\n",
       "      <td>513</td>\n",
       "      <td>yo_train_00514</td>\n",
       "      <td>RT @user: Dókítà ọ̀mùtí ní India se iṣẹ abẹ tó...</td>\n",
       "      <td>negative</td>\n",
       "      <td>yo</td>\n",
       "    </tr>\n",
       "    <tr>\n",
       "      <th rowspan=\"2\" valign=\"top\">neutral</th>\n",
       "      <th>4777</th>\n",
       "      <td>4777</td>\n",
       "      <td>yo_train_04778</td>\n",
       "      <td>Ohun àṣà kan tó gbajúmọ̀ láàárín àwọn abiamọ́ ...</td>\n",
       "      <td>neutral</td>\n",
       "      <td>yo</td>\n",
       "    </tr>\n",
       "    <tr>\n",
       "      <th>1919</th>\n",
       "      <td>1919</td>\n",
       "      <td>yo_train_01920</td>\n",
       "      <td>Inú ìṣẹ̀ṣẹ ni ẹ̀sìn ìgbàlódé-lonígbà-ńlò ti yá...</td>\n",
       "      <td>neutral</td>\n",
       "      <td>yo</td>\n",
       "    </tr>\n",
       "    <tr>\n",
       "      <th rowspan=\"2\" valign=\"top\">positive</th>\n",
       "      <th>5572</th>\n",
       "      <td>5572</td>\n",
       "      <td>yo_train_05573</td>\n",
       "      <td>RT @user: Eni ba olorun da owo po ki'o jogun o...</td>\n",
       "      <td>positive</td>\n",
       "      <td>yo</td>\n",
       "    </tr>\n",
       "    <tr>\n",
       "      <th>5108</th>\n",
       "      <td>5108</td>\n",
       "      <td>yo_train_05109</td>\n",
       "      <td>Orin ìṣírí wọ̀nyí, orin èébú ni, orin ọlọ́pọlọ...</td>\n",
       "      <td>positive</td>\n",
       "      <td>yo</td>\n",
       "    </tr>\n",
       "  </tbody>\n",
       "</table>\n",
       "</div>"
      ],
      "text/plain": [
       "               Unnamed: 0              ID  \\\n",
       "label                                       \n",
       "negative 1703        1703  yo_train_01704   \n",
       "         513          513  yo_train_00514   \n",
       "neutral  4777        4777  yo_train_04778   \n",
       "         1919        1919  yo_train_01920   \n",
       "positive 5572        5572  yo_train_05573   \n",
       "         5108        5108  yo_train_05109   \n",
       "\n",
       "                                                           tweet     label tag  \n",
       "label                                                                           \n",
       "negative 1703  Dearth of regard that emboldens a peasant to c...  negative  yo  \n",
       "         513   RT @user: Dókítà ọ̀mùtí ní India se iṣẹ abẹ tó...  negative  yo  \n",
       "neutral  4777  Ohun àṣà kan tó gbajúmọ̀ láàárín àwọn abiamọ́ ...   neutral  yo  \n",
       "         1919  Inú ìṣẹ̀ṣẹ ni ẹ̀sìn ìgbàlódé-lonígbà-ńlò ti yá...   neutral  yo  \n",
       "positive 5572  RT @user: Eni ba olorun da owo po ki'o jogun o...  positive  yo  \n",
       "         5108  Orin ìṣírí wọ̀nyí, orin èébú ni, orin ọlọ́pọlọ...  positive  yo  "
      ]
     },
     "execution_count": 49,
     "metadata": {},
     "output_type": "execute_result"
    }
   ],
   "source": [
    "samples"
   ]
  },
  {
   "cell_type": "code",
   "execution_count": 17,
   "metadata": {},
   "outputs": [
    {
     "data": {
      "text/plain": [
       "8522"
      ]
     },
     "execution_count": 17,
     "metadata": {},
     "output_type": "execute_result"
    }
   ],
   "source": [
    "df['label'].value_counts().sum()"
   ]
  },
  {
   "cell_type": "code",
   "execution_count": 13,
   "metadata": {},
   "outputs": [
    {
     "data": {
      "text/plain": [
       "2"
      ]
     },
     "execution_count": 13,
     "metadata": {},
     "output_type": "execute_result"
    }
   ],
   "source": [
    "df['label'].value_counts().argmin()"
   ]
  },
  {
   "cell_type": "code",
   "execution_count": 14,
   "metadata": {},
   "outputs": [
    {
     "data": {
      "text/plain": [
       "positive    3542\n",
       "neutral     3108\n",
       "negative    1872\n",
       "Name: label, dtype: int64"
      ]
     },
     "execution_count": 14,
     "metadata": {},
     "output_type": "execute_result"
    }
   ],
   "source": [
    "df['label'].value_counts()"
   ]
  },
  {
   "cell_type": "code",
   "execution_count": null,
   "metadata": {},
   "outputs": [],
   "source": []
  }
 ],
 "metadata": {
  "kernelspec": {
   "display_name": "Python 3",
   "language": "python",
   "name": "python3"
  },
  "language_info": {
   "codemirror_mode": {
    "name": "ipython",
    "version": 3
   },
   "file_extension": ".py",
   "mimetype": "text/x-python",
   "name": "python",
   "nbconvert_exporter": "python",
   "pygments_lexer": "ipython3",
   "version": "3.7.0"
  }
 },
 "nbformat": 4,
 "nbformat_minor": 2
}
